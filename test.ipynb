{
 "metadata": {
  "language_info": {
   "codemirror_mode": {
    "name": "ipython",
    "version": 3
   },
   "file_extension": ".py",
   "mimetype": "text/x-python",
   "name": "python",
   "nbconvert_exporter": "python",
   "pygments_lexer": "ipython3",
   "version": "3.8.3-final"
  },
  "orig_nbformat": 2,
  "kernelspec": {
   "name": "python3",
   "display_name": "Python 3.8.3 64-bit ('venv')",
   "metadata": {
    "interpreter": {
     "hash": "79585a747c42b8238d4269eb90533f7260a3f7f216cf3aa3c7a9bed7457fd3d4"
    }
   }
  }
 },
 "nbformat": 4,
 "nbformat_minor": 2,
 "cells": [
  {
   "source": [
    "# jimiFlow sample unit test\n",
    "\n",
    "## Create jimi session"
   ],
   "cell_type": "markdown",
   "metadata": {}
  },
  {
   "source": [
    "import jimi\n",
    "\n",
    "jimiSession = jimi._api(\"http://localhost:5002\",\"APICODE\")\n"
   ],
   "cell_type": "code",
   "metadata": {
    "tags": []
   },
   "execution_count": 11,
   "outputs": [
    {
     "output_type": "stream",
     "name": "stdout",
     "text": [
      "Authenticated\n"
     ]
    }
   ]
  },
  {
   "source": [
    "## Pull latest version of jimiFlow"
   ],
   "cell_type": "markdown",
   "metadata": {}
  },
  {
   "cell_type": "code",
   "execution_count": 12,
   "metadata": {},
   "outputs": [
    {
     "output_type": "stream",
     "name": "stdout",
     "text": [
      "testFireTrigger{\"attemptCount\": 1, \"autoRestartCount\": 0, \"comment\": \"\", \"createdBy\": \"\", \"enabled\": false, \"events\": [1], \"log\": false, \"logicString\": \"\", \"maxDuration\": 0, \"name\": \"Trigger with data\", \"scope\": 0, \"threaded\": false, \"varDefinitions\": {}}\n\tlogic(True)->action{\"comment\": \"\", \"createdBy\": \"\", \"enabled\": true, \"errorContinue\": false, \"log\": false, \"logicString\": \"if data[event] == 1\", \"name\": \"if data[event] == 1\", \"scope\": 0, \"varDefinitions\": {}}\n\t\tlogic(True)->testFire{\"comment\": \"\", \"crash\": false, \"createdBy\": \"\", \"delay\": 0, \"dontSaveResult\": false, \"enabled\": true, \"errorContinue\": false, \"lastResult\": \"{\\\"conductID\\\": \\\"5f8754b56fbd4651dba47597\\\", \\\"conductName\\\": null, \\\"triggerID\\\": \\\"5f8b4888713eba34a12f0352\\\", \\\"triggerName\\\": null, \\\"var\\\": {}, \\\"plugin\\\": {}, \\\"clearOccurrence\\\": true, \\\"event\\\": 5, \\\"eventStats\\\": {\\\"first\\\": true, \\\"current\\\": 0, \\\"total\\\": 1, \\\"last\\\": true}, \\\"action\\\": {\\\"result\\\": true, \\\"rc\\\": 205, \\\"actionID\\\": \\\"5f8b4888713eba34a12f0352\\\", \\\"data\\\": {}}, \\\"flowID\\\": \\\"e75c5474-5de8-4854-9b25-2b7b2802927e\\\"}\", \"log\": false, \"logicString\": \"\", \"name\": \"testFire lol\", \"password\": \"\", \"rc\": 0, \"resultBool\": true, \"scope\": 0, \"varDefinitions\": {}}\n"
     ]
    }
   ],
   "source": [
    "conductID = \"5f8754b56fbd4651dba47597\"\n",
    "flowID = \"825ad131-ed09-487b-941f-ef8d2038359d\"\n",
    "\n",
    "jimiFlow = jimiSession.getFlowCode(conductID,flowID)\n",
    "print(jimiFlow)"
   ]
  },
  {
   "source": [
    "## Define true and false unit tests and run jimiFlow as code"
   ],
   "cell_type": "markdown",
   "metadata": {}
  },
  {
   "cell_type": "code",
   "execution_count": 13,
   "metadata": {
    "tags": []
   },
   "outputs": [
    {
     "output_type": "stream",
     "name": "stdout",
     "text": [
      "Started @ 1605396980.1656544\n\ntestFireTrigger - Start\n\t{'attemptCount': 1, 'autoRestartCount': 0, 'comment': '', 'createdBy': '', 'enabled': False, 'events': [1], 'log': False, 'logicString': '', 'maxDuration': 0, 'name': 'Trigger with data', 'scope': 0, 'threaded': False, 'varDefinitions': {}}\n\tEvent: 1\n\tPre-Data: {'conductID': '000000000001010000000000-b1387407-afcd-49de-842e-fbd878108e5d', 'conductName': '', 'triggerID': '000000000001010000000000-d00bb557-7892-46ca-ab3f-b271b6584f6d', 'triggerName': 'Trigger with data', 'var': {}, 'plugin': {}, 'event': 1, 'eventStats': {'first': True, 'current': 0, 'total': 2, 'last': False}}\n\t\taction - Start\n\t\t\t{'comment': '', 'createdBy': '', 'enabled': True, 'errorContinue': False, 'log': False, 'logicString': 'if data[event] == 1', 'name': 'if data[event] == 1', 'scope': 0, 'varDefinitions': {}}\n\t\t\tPre-Data: {'conductID': '000000000001010000000000-b1387407-afcd-49de-842e-fbd878108e5d', 'conductName': '', 'triggerID': '000000000001010000000000-d00bb557-7892-46ca-ab3f-b271b6584f6d', 'triggerName': 'Trigger with data', 'var': {}, 'plugin': {}, 'event': 1, 'eventStats': {'first': True, 'current': 0, 'total': 2, 'last': False}, 'action': {'result': True, 'rc': 1337}, 'flowID': '8a025fc2-34c4-4c86-be6e-7b14e4194ece'}\n\t\t\tLogic String: if data[event] == 1\n\t\t\tLogic Result: True\n\t\t\tPost-Data: {'conductID': '000000000001010000000000-b1387407-afcd-49de-842e-fbd878108e5d', 'conductName': '', 'triggerID': '000000000001010000000000-d00bb557-7892-46ca-ab3f-b271b6584f6d', 'triggerName': 'Trigger with data', 'var': {}, 'plugin': {}, 'event': 1, 'eventStats': {'first': True, 'current': 0, 'total': 2, 'last': False}, 'action': {'result': True, 'rc': 1337}, 'flowID': '8a025fc2-34c4-4c86-be6e-7b14e4194ece'}\n\t\t\tResult-Data: {'result': True, 'rc': 0, 'actionID': '000000000001010000000000-4bd64961-669d-49ef-9bb7-9d2c35e2b811', 'data': {}}\n\t\taction - End\n\t\ttestFire - Start\n\t\t\t{'comment': '', 'crash': False, 'createdBy': '', 'delay': 0, 'dontSaveResult': False, 'enabled': True, 'errorContinue': False, 'lastResult': '{\"conductID\": \"5f8754b56fbd4651dba47597\", \"conductName\": null, \"triggerID\": \"5f8b4888713eba34a12f0352\", \"triggerName\": null, \"var\": {}, \"plugin\": {}, \"clearOccurrence\": true, \"event\": 5, \"eventStats\": {\"first\": true, \"current\": 0, \"total\": 1, \"last\": true}, \"action\": {\"result\": true, \"rc\": 205, \"actionID\": \"5f8b4888713eba34a12f0352\", \"data\": {}}, \"flowID\": \"e75c5474-5de8-4854-9b25-2b7b2802927e\"}', 'log': False, 'logicString': '', 'name': 'testFire lol', 'password': '', 'rc': 0, 'resultBool': True, 'scope': 0, 'varDefinitions': {}}\n\t\t\tPre-Data: {'conductID': '000000000001010000000000-b1387407-afcd-49de-842e-fbd878108e5d', 'conductName': '', 'triggerID': '000000000001010000000000-d00bb557-7892-46ca-ab3f-b271b6584f6d', 'triggerName': 'Trigger with data', 'var': {}, 'plugin': {}, 'event': 1, 'eventStats': {'first': True, 'current': 0, 'total': 2, 'last': False}, 'action': {'result': True, 'rc': 0, 'actionID': '000000000001010000000000-4bd64961-669d-49ef-9bb7-9d2c35e2b811', 'data': {}}, 'flowID': 'd4fd43c6-b302-4b68-bf26-1a406e2ca191'}\n\t\t\tPost-Data: {'conductID': '000000000001010000000000-b1387407-afcd-49de-842e-fbd878108e5d', 'conductName': '', 'triggerID': '000000000001010000000000-d00bb557-7892-46ca-ab3f-b271b6584f6d', 'triggerName': 'Trigger with data', 'var': {}, 'plugin': {}, 'event': 1, 'eventStats': {'first': True, 'current': 0, 'total': 2, 'last': False}, 'action': {'result': True, 'rc': 0, 'actionID': '000000000001010000000000-4bd64961-669d-49ef-9bb7-9d2c35e2b811', 'data': {}}, 'flowID': 'd4fd43c6-b302-4b68-bf26-1a406e2ca191'}\n\t\t\tResult-Data: {'result': True, 'rc': 0, 'actionID': '000000000001010000000000-959387c9-1bbd-4973-b4b6-8d24284a2669', 'data': {}}\n\t\ttestFire - End\n\tPost-Data: {'conductID': '000000000001010000000000-b1387407-afcd-49de-842e-fbd878108e5d', 'conductName': '', 'triggerID': '000000000001010000000000-d00bb557-7892-46ca-ab3f-b271b6584f6d', 'triggerName': 'Trigger with data', 'var': {}, 'plugin': {}, 'event': 1, 'eventStats': {'first': True, 'current': 0, 'total': 2, 'last': False}, 'action': {'result': True, 'rc': 0, 'actionID': '000000000001010000000000-959387c9-1bbd-4973-b4b6-8d24284a2669', 'data': {}}, 'flowID': 'd4fd43c6-b302-4b68-bf26-1a406e2ca191'}\ntestFireTrigger - End\n\ntestFireTrigger - Start\n\t{'attemptCount': 1, 'autoRestartCount': 0, 'comment': '', 'createdBy': '', 'enabled': False, 'events': [1], 'log': False, 'logicString': '', 'maxDuration': 0, 'name': 'Trigger with data', 'scope': 0, 'threaded': False, 'varDefinitions': {}}\n\tEvent: 2\n\tPre-Data: {'conductID': '000000000001010000000000-b1387407-afcd-49de-842e-fbd878108e5d', 'conductName': '', 'triggerID': '000000000001010000000000-d00bb557-7892-46ca-ab3f-b271b6584f6d', 'triggerName': 'Trigger with data', 'var': {}, 'plugin': {}, 'event': 2, 'eventStats': {'first': False, 'current': 1, 'total': 2, 'last': True}}\n\t\taction - Start\n\t\t\t{'comment': '', 'createdBy': '', 'enabled': True, 'errorContinue': False, 'log': False, 'logicString': 'if data[event] == 1', 'name': 'if data[event] == 1', 'scope': 0, 'varDefinitions': {}}\n\t\t\tPre-Data: {'conductID': '000000000001010000000000-b1387407-afcd-49de-842e-fbd878108e5d', 'conductName': '', 'triggerID': '000000000001010000000000-d00bb557-7892-46ca-ab3f-b271b6584f6d', 'triggerName': 'Trigger with data', 'var': {}, 'plugin': {}, 'event': 2, 'eventStats': {'first': False, 'current': 1, 'total': 2, 'last': True}, 'action': {'result': True, 'rc': 1337}, 'flowID': '8a025fc2-34c4-4c86-be6e-7b14e4194ece'}\n\t\t\tLogic String: if data[event] == 1\n\t\t\tLogic Result: False\n\t\t\tPost-Data: {'conductID': '000000000001010000000000-b1387407-afcd-49de-842e-fbd878108e5d', 'conductName': '', 'triggerID': '000000000001010000000000-d00bb557-7892-46ca-ab3f-b271b6584f6d', 'triggerName': 'Trigger with data', 'var': {}, 'plugin': {}, 'event': 2, 'eventStats': {'first': False, 'current': 1, 'total': 2, 'last': True}, 'action': {'result': True, 'rc': 1337}, 'flowID': '8a025fc2-34c4-4c86-be6e-7b14e4194ece'}\n\t\t\tResult-Data: {'result': False, 'rc': -100, 'actionID': '000000000001010000000000-4bd64961-669d-49ef-9bb7-9d2c35e2b811', 'data': {}}\n\t\taction - End\n\tPost-Data: {'conductID': '000000000001010000000000-b1387407-afcd-49de-842e-fbd878108e5d', 'conductName': '', 'triggerID': '000000000001010000000000-d00bb557-7892-46ca-ab3f-b271b6584f6d', 'triggerName': 'Trigger with data', 'var': {}, 'plugin': {}, 'event': 2, 'eventStats': {'first': False, 'current': 1, 'total': 2, 'last': True}, 'action': {'result': False, 'rc': -100, 'actionID': '000000000001010000000000-4bd64961-669d-49ef-9bb7-9d2c35e2b811', 'data': {}}, 'flowID': '8a025fc2-34c4-4c86-be6e-7b14e4194ece'}\ntestFireTrigger - End\n\n\nEnded @ 1605396980.4066517\nDuration @ 0.240997314453125\n"
     ]
    }
   ],
   "source": [
    "events = [\n",
    "    1,\n",
    "    2\n",
    "]\n",
    "\n",
    "output = jimiSession.runFlowCode(jimiFlow,events)\n",
    "print(output)"
   ]
  },
  {
   "source": [
    "## Disply results"
   ],
   "cell_type": "markdown",
   "metadata": {}
  },
  {
   "cell_type": "code",
   "execution_count": 14,
   "metadata": {},
   "outputs": [
    {
     "output_type": "stream",
     "name": "stdout",
     "text": [
      "1 - True\n2 - True\n"
     ]
    }
   ],
   "source": [
    "print(\"{0} - {1}\".format(events[0],jimi.expectedResult(output,\"testFire lol\",events[0])))\n",
    "print(\"{0} - {1}\".format(events[1],not jimi.expectedResult(output,\"testFire lol\",events[1])))"
   ]
  }
 ]
}